{
 "cells": [
  {
   "cell_type": "code",
   "execution_count": 389,
   "metadata": {
    "ExecuteTime": {
     "end_time": "2020-04-26T08:48:11.719118Z",
     "start_time": "2020-04-26T08:48:11.711724Z"
    }
   },
   "outputs": [],
   "source": [
    "import pymongo\n",
    "import datetime\n",
    "import time\n",
    "import random \n",
    "import requests\n",
    "from bs4 import BeautifulSoup \n",
    "import os\n",
    "import pickle\n",
    "import pandas as pd\n",
    "import numpy as np\n",
    "import math\n",
    "from selenium import webdriver\n",
    "from selenium.webdriver.chrome.options import Options\n",
    "from selenium.webdriver.common.keys import Keys\n",
    "from selenium.webdriver.common.by import By\n",
    "from selenium.webdriver.support import expected_conditions as EC\n",
    "from selenium.webdriver.support.ui import WebDriverWait\n",
    "from selenium.webdriver.common.action_chains import ActionChains\n",
    "import string\n",
    "import pprint as pp\n",
    "\n",
    "user = 'jefferyholden1@outlook.com'\n",
    "password = 'LinkedInBot12#'"
   ]
  },
  {
   "cell_type": "code",
   "execution_count": 521,
   "metadata": {
    "ExecuteTime": {
     "end_time": "2020-04-26T10:27:38.193419Z",
     "start_time": "2020-04-26T10:27:38.187727Z"
    }
   },
   "outputs": [],
   "source": [
    "# initialize mongo \n",
    "conn = 'mongodb://localhost:27017'\n",
    "client = pymongo.MongoClient(conn)\n",
    "db = client.test_2020_04_25\n",
    "# db = client.test\n",
    "links_collection = db.links\n",
    "jobs_collection = db.jobs"
   ]
  },
  {
   "cell_type": "markdown",
   "metadata": {},
   "source": [
    "# Login to LinkedIn\n",
    "---\n",
    "### To-Do's:\n",
    "    - [ ] Refactor xpath syntax to //*[@class=\"btn__primary--large from__button--floating\"]"
   ]
  },
  {
   "cell_type": "code",
   "execution_count": 214,
   "metadata": {
    "ExecuteTime": {
     "end_time": "2020-04-26T06:34:25.447397Z",
     "start_time": "2020-04-26T06:34:07.450003Z"
    }
   },
   "outputs": [],
   "source": [
    "# pages = []\n",
    "# offset = 25\n",
    "# # opts = Options()\n",
    "# # opts.add_argument(f\"user-agent={agent}\")\n",
    "driver = webdriver.Chrome('../driver/chromedriver')\n",
    "driver.get('http://linkedin.com')\n",
    "try:\n",
    "    green_bar = driver.find_element_by_class_name('special-report-banner__content')\n",
    "except :\n",
    "    pass\n",
    "if green_bar:\n",
    "    login = driver.find_element_by_xpath('/html/body/nav/a[3]')\n",
    "    login.click()\n",
    "    time.sleep(3)\n",
    "    driver.find_element_by_xpath('/html/body/div/main/div[2]/form/div[1]/input').send_keys(user)\n",
    "    driver.find_element_by_xpath('/html/body/div/main/div[2]/form/div[2]/input').send_keys(password)\n",
    "    time.sleep(1)\n",
    "    driver.find_element_by_xpath('//*[@class=\"btn__primary--large from__button--floating\"]').click()\n",
    "else:\n",
    "    driver.find_element_by_xpath('/html/body/nav/section[2]/form/div[1]/div[1]/input').send_keys(user)\n",
    "    driver.find_element_by_xpath('/html/body/nav/section[2]/form/div[1]/div[2]/input').send_keys(password)   \n",
    "    time.sleep(2)\n",
    "    driver.find_element_by_xpath('/html/body/nav/section[2]/form/div[2]/button').click()\n",
    "    driver.find_element_by_xpath('/html/body/nav/section[2]/form/div[2]/button')\n",
    "# time.sleep(random.randrange(3,8))"
   ]
  },
  {
   "cell_type": "markdown",
   "metadata": {},
   "source": [
    "# Scrape #1 - Get the Job Links\n",
    "---\n",
    "### To-Do's:\n",
    "    - [ ] Make sure bot gets all results (only got 525/647 results)\n"
   ]
  },
  {
   "cell_type": "code",
   "execution_count": 144,
   "metadata": {
    "ExecuteTime": {
     "end_time": "2020-04-26T04:49:09.460115Z",
     "start_time": "2020-04-26T04:49:09.456505Z"
    }
   },
   "outputs": [],
   "source": [
    "# This is how the user should interact with this app eventually\n",
    "# search_query = str(input('Enter a search query here: ')).lower().replace(' ','%20')\n",
    "# print(search_query)\n",
    "# location = str(input('Please enter a search location: ')).lower().replace(' ','%20')\n",
    "# print(location)"
   ]
  },
  {
   "cell_type": "code",
   "execution_count": 215,
   "metadata": {
    "ExecuteTime": {
     "end_time": "2020-04-26T06:47:33.248906Z",
     "start_time": "2020-04-26T06:39:08.263002Z"
    }
   },
   "outputs": [],
   "source": [
    "# linkedin search query\n",
    "location = 'Los%20Angeles'\n",
    "search_query = 'Data%20Scientist'\n",
    "\n",
    "# Set pagination for linkedin pages\n",
    "offset = 0\n",
    "\n",
    "# Give each link a unique id\n",
    "scrape_1_id = 1\n",
    "\n",
    "# Get the first page and extract the number of job results \n",
    "driver.get(f'https://www.linkedin.com/jobs/search/?geoId=90000049&keywords={search_query}&location={location}&sortBy=R&start={offset}')\n",
    "num_results = int(driver.find_element_by_xpath('//*[@class=\"display-flex t-12 t-black--light t-normal\"]').text.split(' ')[0])\n",
    "num_of_pages = math.ceil(num_results / 25) if num_results < 1000 else 40\n",
    "\n",
    "# Scrape each linkedin job search page and return the job links\n",
    "for index in range(num_of_pages):\n",
    "   \n",
    "    driver.get(f'https://www.linkedin.com/jobs/search/?geoId=90000049&keywords={search_query}&location={location}&sortBy=R&start={offset}')\n",
    "    time.sleep(2)  # allow each page to load\n",
    "\n",
    "    # Load entire page by tabbing 250 times \n",
    "    action = ActionChains(driver)\n",
    "    action.send_keys(Keys.TAB * 500)\n",
    "    action.perform()\n",
    "\n",
    "    # finds all the job links and returns a list of links\n",
    "    container = driver.find_elements_by_xpath('//*[@class=\"job-card-container__link job-card-list__title disabled ember-view\"]')\n",
    "    \n",
    "    # iterates throught the link list to extract job links\n",
    "    for link in container:\n",
    "        links_collection.insert_one({'scrape_1_id':scrape_1_id,\"link\":link.get_attribute('href')})\n",
    "        scrape_1_id += 1\n",
    "    \n",
    "    # increment offset to go to next page of results\n",
    "    offset += 25"
   ]
  },
  {
   "cell_type": "markdown",
   "metadata": {},
   "source": [
    "# Scape #2 - Extract data from job links"
   ]
  },
  {
   "cell_type": "code",
   "execution_count": null,
   "metadata": {},
   "outputs": [],
   "source": [
    "# scrape all html from job posting\n",
    "link_list = list(links_collection.find())\n",
    "raw_html = []\n",
    "\n",
    "# for idx, link in enumerate(link_list):\n",
    "#     driver.get(link)\n",
    "# #   grab the raw html\n",
    "#     raw_html.append({'job_id':idx,'job':driver.get_source()})\n",
    "# #     grab the elements off the page\n",
    "\n",
    "# # turn elements into a json object"
   ]
  },
  {
   "cell_type": "code",
   "execution_count": 526,
   "metadata": {
    "ExecuteTime": {
     "end_time": "2020-04-26T11:03:36.873665Z",
     "start_time": "2020-04-26T11:03:36.868372Z"
    }
   },
   "outputs": [],
   "source": [
    "links_list = list(links_collection.find())"
   ]
  },
  {
   "cell_type": "code",
   "execution_count": 528,
   "metadata": {
    "ExecuteTime": {
     "end_time": "2020-04-26T20:31:14.979530Z",
     "start_time": "2020-04-26T19:55:38.586655Z"
    }
   },
   "outputs": [
    {
     "ename": "NoSuchElementException",
     "evalue": "Message: no such element: Unable to locate element: {\"method\":\"xpath\",\"selector\":\"//*[@class=\"t-14 t-black--light t-bold artdeco-button artdeco-button--muted artdeco-button--icon-right artdeco-button--2 artdeco-button--tertiary ember-view\"]\"}\n  (Session info: chrome=81.0.4044.122)\n",
     "output_type": "error",
     "traceback": [
      "\u001b[0;31m-------------------------------------------------------------\u001b[0m",
      "\u001b[0;31mNoSuchElementException\u001b[0m      Traceback (most recent call last)",
      "\u001b[0;32m<ipython-input-528-c4e199bdc29c>\u001b[0m in \u001b[0;36m<module>\u001b[0;34m\u001b[0m\n\u001b[1;32m      2\u001b[0m     \u001b[0mdriver\u001b[0m\u001b[0;34m.\u001b[0m\u001b[0mget\u001b[0m\u001b[0;34m(\u001b[0m\u001b[0mlink\u001b[0m\u001b[0;34m[\u001b[0m\u001b[0;34m'link'\u001b[0m\u001b[0;34m]\u001b[0m\u001b[0;34m)\u001b[0m\u001b[0;34m\u001b[0m\u001b[0;34m\u001b[0m\u001b[0m\n\u001b[1;32m      3\u001b[0m     \u001b[0mtime\u001b[0m\u001b[0;34m.\u001b[0m\u001b[0msleep\u001b[0m\u001b[0;34m(\u001b[0m\u001b[0;36m5\u001b[0m\u001b[0;34m)\u001b[0m\u001b[0;34m\u001b[0m\u001b[0;34m\u001b[0m\u001b[0m\n\u001b[0;32m----> 4\u001b[0;31m     \u001b[0mdriver\u001b[0m\u001b[0;34m.\u001b[0m\u001b[0mfind_element_by_xpath\u001b[0m\u001b[0;34m(\u001b[0m\u001b[0;34m'//*[@class=\"t-14 t-black--light t-bold artdeco-button artdeco-button--muted artdeco-button--icon-right artdeco-button--2 artdeco-button--tertiary ember-view\"]'\u001b[0m\u001b[0;34m)\u001b[0m\u001b[0;34m.\u001b[0m\u001b[0mclick\u001b[0m\u001b[0;34m(\u001b[0m\u001b[0;34m)\u001b[0m\u001b[0;34m\u001b[0m\u001b[0;34m\u001b[0m\u001b[0m\n\u001b[0m\u001b[1;32m      5\u001b[0m     \u001b[0;31m# reset variables after every scrape\u001b[0m\u001b[0;34m\u001b[0m\u001b[0;34m\u001b[0m\u001b[0;34m\u001b[0m\u001b[0m\n\u001b[1;32m      6\u001b[0m     \u001b[0mjob_title\u001b[0m \u001b[0;34m=\u001b[0m \u001b[0;32mNone\u001b[0m\u001b[0;34m\u001b[0m\u001b[0;34m\u001b[0m\u001b[0m\n",
      "\u001b[0;32m/Applications/anaconda3/lib/python3.6/site-packages/selenium/webdriver/remote/webdriver.py\u001b[0m in \u001b[0;36mfind_element_by_xpath\u001b[0;34m(self, xpath)\u001b[0m\n\u001b[1;32m    392\u001b[0m             \u001b[0melement\u001b[0m \u001b[0;34m=\u001b[0m \u001b[0mdriver\u001b[0m\u001b[0;34m.\u001b[0m\u001b[0mfind_element_by_xpath\u001b[0m\u001b[0;34m(\u001b[0m\u001b[0;34m'//div/td[1]'\u001b[0m\u001b[0;34m)\u001b[0m\u001b[0;34m\u001b[0m\u001b[0;34m\u001b[0m\u001b[0m\n\u001b[1;32m    393\u001b[0m         \"\"\"\n\u001b[0;32m--> 394\u001b[0;31m         \u001b[0;32mreturn\u001b[0m \u001b[0mself\u001b[0m\u001b[0;34m.\u001b[0m\u001b[0mfind_element\u001b[0m\u001b[0;34m(\u001b[0m\u001b[0mby\u001b[0m\u001b[0;34m=\u001b[0m\u001b[0mBy\u001b[0m\u001b[0;34m.\u001b[0m\u001b[0mXPATH\u001b[0m\u001b[0;34m,\u001b[0m \u001b[0mvalue\u001b[0m\u001b[0;34m=\u001b[0m\u001b[0mxpath\u001b[0m\u001b[0;34m)\u001b[0m\u001b[0;34m\u001b[0m\u001b[0;34m\u001b[0m\u001b[0m\n\u001b[0m\u001b[1;32m    395\u001b[0m \u001b[0;34m\u001b[0m\u001b[0m\n\u001b[1;32m    396\u001b[0m     \u001b[0;32mdef\u001b[0m \u001b[0mfind_elements_by_xpath\u001b[0m\u001b[0;34m(\u001b[0m\u001b[0mself\u001b[0m\u001b[0;34m,\u001b[0m \u001b[0mxpath\u001b[0m\u001b[0;34m)\u001b[0m\u001b[0;34m:\u001b[0m\u001b[0;34m\u001b[0m\u001b[0;34m\u001b[0m\u001b[0m\n",
      "\u001b[0;32m/Applications/anaconda3/lib/python3.6/site-packages/selenium/webdriver/remote/webdriver.py\u001b[0m in \u001b[0;36mfind_element\u001b[0;34m(self, by, value)\u001b[0m\n\u001b[1;32m    976\u001b[0m         return self.execute(Command.FIND_ELEMENT, {\n\u001b[1;32m    977\u001b[0m             \u001b[0;34m'using'\u001b[0m\u001b[0;34m:\u001b[0m \u001b[0mby\u001b[0m\u001b[0;34m,\u001b[0m\u001b[0;34m\u001b[0m\u001b[0;34m\u001b[0m\u001b[0m\n\u001b[0;32m--> 978\u001b[0;31m             'value': value})['value']\n\u001b[0m\u001b[1;32m    979\u001b[0m \u001b[0;34m\u001b[0m\u001b[0m\n\u001b[1;32m    980\u001b[0m     \u001b[0;32mdef\u001b[0m \u001b[0mfind_elements\u001b[0m\u001b[0;34m(\u001b[0m\u001b[0mself\u001b[0m\u001b[0;34m,\u001b[0m \u001b[0mby\u001b[0m\u001b[0;34m=\u001b[0m\u001b[0mBy\u001b[0m\u001b[0;34m.\u001b[0m\u001b[0mID\u001b[0m\u001b[0;34m,\u001b[0m \u001b[0mvalue\u001b[0m\u001b[0;34m=\u001b[0m\u001b[0;32mNone\u001b[0m\u001b[0;34m)\u001b[0m\u001b[0;34m:\u001b[0m\u001b[0;34m\u001b[0m\u001b[0;34m\u001b[0m\u001b[0m\n",
      "\u001b[0;32m/Applications/anaconda3/lib/python3.6/site-packages/selenium/webdriver/remote/webdriver.py\u001b[0m in \u001b[0;36mexecute\u001b[0;34m(self, driver_command, params)\u001b[0m\n\u001b[1;32m    319\u001b[0m         \u001b[0mresponse\u001b[0m \u001b[0;34m=\u001b[0m \u001b[0mself\u001b[0m\u001b[0;34m.\u001b[0m\u001b[0mcommand_executor\u001b[0m\u001b[0;34m.\u001b[0m\u001b[0mexecute\u001b[0m\u001b[0;34m(\u001b[0m\u001b[0mdriver_command\u001b[0m\u001b[0;34m,\u001b[0m \u001b[0mparams\u001b[0m\u001b[0;34m)\u001b[0m\u001b[0;34m\u001b[0m\u001b[0;34m\u001b[0m\u001b[0m\n\u001b[1;32m    320\u001b[0m         \u001b[0;32mif\u001b[0m \u001b[0mresponse\u001b[0m\u001b[0;34m:\u001b[0m\u001b[0;34m\u001b[0m\u001b[0;34m\u001b[0m\u001b[0m\n\u001b[0;32m--> 321\u001b[0;31m             \u001b[0mself\u001b[0m\u001b[0;34m.\u001b[0m\u001b[0merror_handler\u001b[0m\u001b[0;34m.\u001b[0m\u001b[0mcheck_response\u001b[0m\u001b[0;34m(\u001b[0m\u001b[0mresponse\u001b[0m\u001b[0;34m)\u001b[0m\u001b[0;34m\u001b[0m\u001b[0;34m\u001b[0m\u001b[0m\n\u001b[0m\u001b[1;32m    322\u001b[0m             response['value'] = self._unwrap_value(\n\u001b[1;32m    323\u001b[0m                 response.get('value', None))\n",
      "\u001b[0;32m/Applications/anaconda3/lib/python3.6/site-packages/selenium/webdriver/remote/errorhandler.py\u001b[0m in \u001b[0;36mcheck_response\u001b[0;34m(self, response)\u001b[0m\n\u001b[1;32m    240\u001b[0m                 \u001b[0malert_text\u001b[0m \u001b[0;34m=\u001b[0m \u001b[0mvalue\u001b[0m\u001b[0;34m[\u001b[0m\u001b[0;34m'alert'\u001b[0m\u001b[0;34m]\u001b[0m\u001b[0;34m.\u001b[0m\u001b[0mget\u001b[0m\u001b[0;34m(\u001b[0m\u001b[0;34m'text'\u001b[0m\u001b[0;34m)\u001b[0m\u001b[0;34m\u001b[0m\u001b[0;34m\u001b[0m\u001b[0m\n\u001b[1;32m    241\u001b[0m             \u001b[0;32mraise\u001b[0m \u001b[0mexception_class\u001b[0m\u001b[0;34m(\u001b[0m\u001b[0mmessage\u001b[0m\u001b[0;34m,\u001b[0m \u001b[0mscreen\u001b[0m\u001b[0;34m,\u001b[0m \u001b[0mstacktrace\u001b[0m\u001b[0;34m,\u001b[0m \u001b[0malert_text\u001b[0m\u001b[0;34m)\u001b[0m\u001b[0;34m\u001b[0m\u001b[0;34m\u001b[0m\u001b[0m\n\u001b[0;32m--> 242\u001b[0;31m         \u001b[0;32mraise\u001b[0m \u001b[0mexception_class\u001b[0m\u001b[0;34m(\u001b[0m\u001b[0mmessage\u001b[0m\u001b[0;34m,\u001b[0m \u001b[0mscreen\u001b[0m\u001b[0;34m,\u001b[0m \u001b[0mstacktrace\u001b[0m\u001b[0;34m)\u001b[0m\u001b[0;34m\u001b[0m\u001b[0;34m\u001b[0m\u001b[0m\n\u001b[0m\u001b[1;32m    243\u001b[0m \u001b[0;34m\u001b[0m\u001b[0m\n\u001b[1;32m    244\u001b[0m     \u001b[0;32mdef\u001b[0m \u001b[0m_value_or_default\u001b[0m\u001b[0;34m(\u001b[0m\u001b[0mself\u001b[0m\u001b[0;34m,\u001b[0m \u001b[0mobj\u001b[0m\u001b[0;34m,\u001b[0m \u001b[0mkey\u001b[0m\u001b[0;34m,\u001b[0m \u001b[0mdefault\u001b[0m\u001b[0;34m)\u001b[0m\u001b[0;34m:\u001b[0m\u001b[0;34m\u001b[0m\u001b[0;34m\u001b[0m\u001b[0m\n",
      "\u001b[0;31mNoSuchElementException\u001b[0m: Message: no such element: Unable to locate element: {\"method\":\"xpath\",\"selector\":\"//*[@class=\"t-14 t-black--light t-bold artdeco-button artdeco-button--muted artdeco-button--icon-right artdeco-button--2 artdeco-button--tertiary ember-view\"]\"}\n  (Session info: chrome=81.0.4044.122)\n"
     ]
    }
   ],
   "source": [
    "for index, link in enumerate(links_list):\n",
    "    driver.get(link['link'])\n",
    "    time.sleep(5)\n",
    "    driver.find_element_by_xpath('//*[@class=\"t-14 t-black--light t-bold artdeco-button artdeco-button--muted artdeco-button--icon-right artdeco-button--2 artdeco-button--tertiary ember-view\"]').click()\n",
    "    # reset variables after every scrape\n",
    "    job_title = None\n",
    "    employer_name = None\n",
    "    employer_location = None\n",
    "    posted_time = None\n",
    "    num_of_applicants = None\n",
    "    job_description = None\n",
    "    experience_level = None\n",
    "    employment_type = None\n",
    "    industry = None\n",
    "    job_functions = None\n",
    "\n",
    "    try:        \n",
    "        # Job Title\n",
    "        job_title = driver.find_element_by_xpath('//*[@class=\"jobs-top-card__job-title t-24\"]').text\n",
    "    except:\n",
    "        pass\n",
    "\n",
    "    try: \n",
    "        # Employer Name\n",
    "        employer_name = driver.find_element_by_xpath('//*[@class=\"jobs-top-card__company-url ember-view\"]').text\n",
    "    except:\n",
    "        pass\n",
    "\n",
    "    try: \n",
    "        # Employer Location\n",
    "        employer_location = driver.find_element_by_xpath('//*[@class=\"jobs-top-card__bullet\"]').text\n",
    "    except:\n",
    "        pass\n",
    "\n",
    "    try: \n",
    "        # Posted Time\n",
    "        posted_time = driver.find_element_by_xpath('//*[@class=\"mt1 full-width flex-grow-1 t-14 t-black--light\"]').text.split('\\n')[1]\n",
    "    except:\n",
    "        pass\n",
    "\n",
    "    try: \n",
    "        # Number of Applicants\n",
    "        num_of_applicants = int(driver.find_element_by_xpath('//*[@class=\"mt1 full-width flex-grow-1 t-14 t-black--light\"]').text.split('\\n')[3].split(' ')[0])\n",
    "    except:\n",
    "        pass\n",
    "\n",
    "    try: \n",
    "        # Job Description\n",
    "        job_description = driver.find_element_by_xpath('//*[@class=\"jobs-box__html-content jobs-description-content__text t-14 t-black--light t-normal\"]').text.lower() \\\n",
    "            .translate({ord(ch):' ' for ch in '. \\n , - / \\ [ ]( )'}).replace('  ', ' ')\n",
    "    except:\n",
    "        pass\n",
    "\n",
    "    try: \n",
    "        # Experience Level\n",
    "        experience_level = driver.find_elements_by_xpath('//*[@class=\"jobs-box__body js-formatted-exp-body\"]')[0].text\n",
    "    except:\n",
    "        pass\n",
    "\n",
    "    try: \n",
    "        # Industry \n",
    "        industry1 = driver.find_elements_by_xpath('//*[@class=\"jobs-box__list jobs-description-details__list js-formatted-industries-list\"]')\n",
    "        industry2 = industry1[0].find_elements_by_tag_name('li')\n",
    "        industry = [ind.text for ind in industry2]\n",
    "    except:\n",
    "        pass\n",
    "\n",
    "    try: \n",
    "        # Employment Type\n",
    "        employment_type = driver.find_elements_by_xpath('//*[@class=\"jobs-box__body js-formatted-employment-status-body\"]')[0].text\n",
    "    except:\n",
    "        pass\n",
    "\n",
    "    try: \n",
    "        # Job Functions\n",
    "        job_functions1 = driver.find_elements_by_xpath('//*[@class=\"jobs-box__list jobs-description-details__list js-formatted-job-functions-list\"]')\n",
    "        job_functions2 = job_functions1[0].find_elements_by_tag_name('li')\n",
    "        job_functions = [jf.text for jf in job_functions2]\n",
    "\n",
    "    except:\n",
    "        pass\n",
    "\n",
    "    jobs_collection.insert_one({\n",
    "        'scrape_time': datetime.datetime.now(),\n",
    "        'job_id': index,\n",
    "        'job_title':job_title,\n",
    "        'employer_name': employer_name,\n",
    "        'employer_location':employer_location,\n",
    "        'posted_time':posted_time,\n",
    "        'num_of_applicants':num_of_applicants,\n",
    "        'job_description': job_description,\n",
    "        'experience_level': experience_level,\n",
    "        'industry': industry,\n",
    "        'employment_type': employment_type,\n",
    "        'job_functions':job_functions,\n",
    "        'url_link' : link['link']\n",
    "    })\n",
    "# dictt"
   ]
  },
  {
   "cell_type": "code",
   "execution_count": 518,
   "metadata": {
    "ExecuteTime": {
     "end_time": "2020-04-26T10:23:25.660653Z",
     "start_time": "2020-04-26T10:23:20.487593Z"
    }
   },
   "outputs": [],
   "source": [
    "driver.get('https://www.linkedin.com/jobs/view/1788219535/?eBP=NotAvailableFromVoyagerAPI&refId=3b8372d8-48cc-416b-837a-191e9a884e48&trk=flagship3_search_srp_jobs')\n",
    "driver.find_element_by_xpath('//*[@class=\"t-14 t-black--light t-bold artdeco-button artdeco-button--muted artdeco-button--icon-right artdeco-button--2 artdeco-button--tertiary ember-view\"]').click()"
   ]
  },
  {
   "cell_type": "code",
   "execution_count": 519,
   "metadata": {
    "ExecuteTime": {
     "end_time": "2020-04-26T10:23:31.069519Z",
     "start_time": "2020-04-26T10:23:30.988315Z"
    }
   },
   "outputs": [
    {
     "data": {
      "text/plain": [
       "['Engineering', 'Information Technology']"
      ]
     },
     "execution_count": 519,
     "metadata": {},
     "output_type": "execute_result"
    }
   ],
   "source": [
    "# Employment Type\n",
    "employment_type = driver.find_elements_by_xpath('//*[@class=\"jobs-box__body js-formatted-employment-status-body\"]')[0].text\n",
    "employment_type\n",
    "\n",
    "# # Job Functions\n",
    "job_functions1 = driver.find_elements_by_xpath('//*[@class=\"jobs-box__list jobs-description-details__list js-formatted-job-functions-list\"]')\n",
    "job_functions2 = job_functions1[0].find_elements_by_tag_name('li')\n",
    "job_functions = [jf.text for jf in job_functions2]\n",
    "job_functions"
   ]
  },
  {
   "cell_type": "code",
   "execution_count": null,
   "metadata": {},
   "outputs": [],
   "source": []
  }
 ],
 "metadata": {
  "kernelspec": {
   "display_name": "Python 3",
   "language": "python",
   "name": "python3"
  },
  "language_info": {
   "codemirror_mode": {
    "name": "ipython",
    "version": 3
   },
   "file_extension": ".py",
   "mimetype": "text/x-python",
   "name": "python",
   "nbconvert_exporter": "python",
   "pygments_lexer": "ipython3",
   "version": "3.6.10"
  }
 },
 "nbformat": 4,
 "nbformat_minor": 4
}
